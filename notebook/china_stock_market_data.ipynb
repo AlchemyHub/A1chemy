{
 "cells": [
  {
   "cell_type": "code",
   "execution_count": 1,
   "metadata": {},
   "outputs": [
    {
     "name": "stdout",
     "output_type": "stream",
     "text": [
      "3932\n",
      "total row data length:3930\n",
      "xls_url=http://www.csindex.com.cn/uploads/file/autofile/cons/000300cons.xls?t=1605439830\n",
      "xls_url=http://www.csindex.com.cn/uploads/file/autofile/cons/000906cons.xls?t=1605439831\n"
     ]
    }
   ],
   "source": []
  },
  {
   "cell_type": "code",
   "execution_count": 6,
   "metadata": {},
   "outputs": [
    {
     "name": "stdout",
     "output_type": "stream",
     "text": [
      "3932\n",
      "total row data length:3930\n"
     ]
    }
   ],
   "source": [
    "#申万一级行业数据\n",
    "import pymongo\n",
    "import a1chemy.data_source as data_source\n",
    "from a1chemy.common import Tag\n",
    "from a1chemy.common import Tree\n",
    "\n",
    "mongo_client = pymongo.MongoClient(\"mongodb://localhost:27017/\", username='a1chemy', password='1B2C9046-E3CC-447F-9961-E125759BA44F')\n",
    "mongo_ticks_client = data_source.MongoTicks(mongo_client=mongo_client)\n",
    "mongo_tag_client = data_source.MongoTags(mongo_client=mongo_client)\n",
    "\n",
    "\n",
    "sw_sectors_root_tag = Tag({'id':'swsindex', 'parent':None, 'values':{}})\n",
    "mongo_tag_client.insert(tag=sw_sectors_root_tag)\n",
    "\n",
    "data_source.parse_sw_sectors_save_to_file('/Users/line/workspace/freedom/doc/SwClass.xls', \n",
    "                         '/Users/line/workspace/freedom/A1chemy/data/sw_sector.json')\n",
    "sw_sectors_result = data_source.parse_sw_sectors(source='/Users/line/workspace/freedom/doc/SwClass.xls')\n",
    "for s in sw_sectors_result:\n",
    "    sector_tag = Tag({'id':s['sector'], 'parent':sw_sectors_root_tag.id, 'values':{}})\n",
    "    mongo_tag_client.insert(tag=sector_tag)\n",
    "    \n",
    "    stock_tag = Tag({\n",
    "        'id': s['exchange'] + '_' + s['symbol'],\n",
    "        'parent': sector_tag.id,\n",
    "        'values': {\n",
    "            'exchange': s['exchange'],\n",
    "            'symbol': s['symbol']\n",
    "        }\n",
    "    })\n",
    "    mongo_tag_client.insert(tag=stock_tag)"
   ]
  },
  {
   "cell_type": "code",
   "execution_count": null,
   "metadata": {},
   "outputs": [],
   "source": [
    "data_source.download_and_parse_csi_xls(url='http://www.csindex.com.cn/zh-CN/indices/index-detail/000300',\n",
    "                                  xls_path='/Users/line/workspace/freedom/doc/000300cons.xls',\n",
    "                                  target='/Users/line/workspace/freedom/A1chemy/data/csi_300.json')\n",
    "data_source.download_and_parse_csi_xls(url='http://www.csindex.com.cn/zh-CN/indices/index-detail/000906',\n",
    "                                  xls_path='/Users/line/workspace/freedom/doc/000906cons.xls',\n",
    "                                  target='/Users/line/workspace/freedom/A1chemy/data/csi_800.json')"
   ]
  },
  {
   "cell_type": "code",
   "execution_count": 12,
   "metadata": {},
   "outputs": [
    {
     "name": "stdout",
     "output_type": "stream",
     "text": [
      "xls_url=http://www.csindex.com.cn/uploads/file/autofile/cons/000300cons.xls?t=1606037639\n",
      "xls_url=http://www.csindex.com.cn/uploads/file/autofile/cons/000906cons.xls?t=1606037642\n"
     ]
    }
   ],
   "source": [
    "#沪深300\n",
    "import pymongo\n",
    "import a1chemy.data_source as data_source\n",
    "from a1chemy.common import Tag\n",
    "from a1chemy.common import Tree\n",
    "\n",
    "\n",
    "def parse_sci_to_mongo(url, xls_path, json_file_path, index_tag_id):\n",
    "    data_source.download_csi_xls(url=url, xls_path=xls_path)\n",
    "    data_source.parse_csi_xls_file_and_write_to_file(source=xls_path, target=json_file_path)\n",
    "    index_result = data_source.parse_csi_xls_file(source=xls_path)\n",
    "\n",
    "\n",
    "    index_tag = Tag({'id': index_tag_id, 'parent':None, 'values':{}})\n",
    "    mongo_tag_client.insert(tag=index_tag)\n",
    "    for stock in index_result:\n",
    "        stock_tag = Tag({\n",
    "            'id': stock['exchange'] + '_' + stock['symbol'],\n",
    "            'parent': index_tag.id,\n",
    "            'values': {\n",
    "                'exchange': stock['exchange'],\n",
    "                'symbol': stock['symbol']\n",
    "            }\n",
    "        })\n",
    "        mongo_tag_client.insert(tag=stock_tag)\n",
    "\n",
    "parse_sci_to_mongo(url = 'http://www.csindex.com.cn/zh-CN/indices/index-detail/000300',\n",
    "                   xls_path='/Users/line/workspace/freedom/doc/000300cons.xls',\n",
    "                   json_file_path = '/Users/line/workspace/freedom/A1chemy/data/csi_300.json',\n",
    "                   index_tag_id = 'csi300')\n",
    "\n",
    "parse_sci_to_mongo(url = 'http://www.csindex.com.cn/zh-CN/indices/index-detail/000906',\n",
    "                   xls_path='/Users/line/workspace/freedom/doc/000906cons.xls',\n",
    "                   json_file_path = '/Users/line/workspace/freedom/A1chemy/data/csi_800.json',\n",
    "                   index_tag_id = 'csi800')"
   ]
  }
 ],
 "metadata": {
  "kernelspec": {
   "display_name": "venv_a1chemy",
   "language": "python",
   "name": "venv"
  },
  "language_info": {
   "codemirror_mode": {
    "name": "ipython",
    "version": 3
   },
   "file_extension": ".py",
   "mimetype": "text/x-python",
   "name": "python",
   "nbconvert_exporter": "python",
   "pygments_lexer": "ipython3",
   "version": "3.7.5"
  },
  "toc": {
   "base_numbering": 1,
   "nav_menu": {},
   "number_sections": true,
   "sideBar": true,
   "skip_h1_title": false,
   "title_cell": "Table of Contents",
   "title_sidebar": "Contents",
   "toc_cell": false,
   "toc_position": {},
   "toc_section_display": true,
   "toc_window_display": false
  }
 },
 "nbformat": 4,
 "nbformat_minor": 4
}

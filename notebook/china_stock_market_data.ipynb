{
 "cells": [
  {
   "cell_type": "code",
   "execution_count": 2,
   "metadata": {},
   "outputs": [
    {
     "name": "stdout",
     "output_type": "stream",
     "text": [
      "3932\n",
      "total row data length:3930\n",
      "xls_url=http://www.csindex.com.cn/uploads/file/autofile/cons/000300cons.xls?t=1604163471\n",
      "xls_url=http://www.csindex.com.cn/uploads/file/autofile/cons/000906cons.xls?t=1604163472\n"
     ]
    }
   ],
   "source": [
    "import a1chemy\n",
    "#申万一级行业分类数据\n",
    "a1chemy.parse_sw_sectors('/Users/line/workspace/freedom/doc/SwClass.xls', \n",
    "                         '/Users/line/workspace/freedom/A1chemy/data/sw_sector.json')\n",
    "\n",
    "a1chemy.download_and_parse_csi_xls(url='http://www.csindex.com.cn/zh-CN/indices/index-detail/000300',\n",
    "                                  xls_path='/Users/line/workspace/freedom/doc/000300cons.xls',\n",
    "                                  target='/Users/line/workspace/freedom/A1chemy/data/csi_300.json')\n",
    "a1chemy.download_and_parse_csi_xls(url='http://www.csindex.com.cn/zh-CN/indices/index-detail/000906',\n",
    "                                  xls_path='/Users/line/workspace/freedom/doc/000906cons.xls',\n",
    "                                  target='/Users/line/workspace/freedom/A1chemy/data/csi_800.json')"
   ]
  }
 ],
 "metadata": {
  "kernelspec": {
   "display_name": "venv_a1chemy",
   "language": "python",
   "name": "venv"
  },
  "language_info": {
   "codemirror_mode": {
    "name": "ipython",
    "version": 3
   },
   "file_extension": ".py",
   "mimetype": "text/x-python",
   "name": "python",
   "nbconvert_exporter": "python",
   "pygments_lexer": "ipython3",
   "version": "3.7.5"
  },
  "toc": {
   "base_numbering": 1,
   "nav_menu": {},
   "number_sections": true,
   "sideBar": true,
   "skip_h1_title": false,
   "title_cell": "Table of Contents",
   "title_sidebar": "Contents",
   "toc_cell": false,
   "toc_position": {},
   "toc_section_display": true,
   "toc_window_display": false
  }
 },
 "nbformat": 4,
 "nbformat_minor": 4
}

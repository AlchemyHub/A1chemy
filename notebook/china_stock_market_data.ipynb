{
 "cells": [
  {
   "cell_type": "code",
   "execution_count": 22,
   "metadata": {},
   "outputs": [
    {
     "name": "stdout",
     "output_type": "stream",
     "text": [
      "xls_url=http://www.csindex.com.cn/uploads/file/autofile/cons/000300cons.xls?t=1596353270\n"
     ]
    }
   ],
   "source": [
    "from bs4 import BeautifulSoup\n",
    "import requests\n",
    "import re\n",
    "\n",
    "def download_sci()\n",
    "pattern = re.compile('.*成份列表.*')\n",
    "html_page = requests.get('http://www.csindex.com.cn/zh-CN/indices/index-detail/000300')\n",
    "soup = BeautifulSoup(html_page.content, 'lxml')\n",
    "results = soup.find_all(text=pattern)\n",
    "xls_url = results[0].parent['href'] if len(results) is 1 else None\n",
    "print(\"xls_url=\" + xls_url)\n"
   ]
  },
  {
   "cell_type": "code",
   "execution_count": 3,
   "metadata": {},
   "outputs": [
    {
     "name": "stdout",
     "output_type": "stream",
     "text": [
      "xls_url=http://www.csindex.com.cn/uploads/file/autofile/cons/000300cons.xls?t=1596353741\n",
      "xls_url=http://www.csindex.com.cn/uploads/file/autofile/cons/000906cons.xls?t=1596353742\n"
     ]
    }
   ],
   "source": [
    "import a1chemy\n",
    "申万一级行业分类数据\n",
    "a1chemy.parse_sw_sectors('/Users/line/workspace/freedom/doc/SwClass.xls', \n",
    "                         '/Users/line/workspace/freedom/A1chemy/data/sw_sector.json')\n",
    "\n",
    "a1chemy.download_and_parse_csi_xls(url='http://www.csindex.com.cn/zh-CN/indices/index-detail/000300',\n",
    "                                  xls_path='/Users/line/workspace/freedom/doc/000300cons.xls',\n",
    "                                  target='/Users/line/workspace/freedom/A1chemy/data/csi_300.json')\n",
    "a1chemy.download_and_parse_csi_xls(url='http://www.csindex.com.cn/zh-CN/indices/index-detail/000906',\n",
    "                                  xls_path='/Users/line/workspace/freedom/doc/000906cons.xls',\n",
    "                                  target='/Users/line/workspace/freedom/A1chemy/data/csi_800.json')"
   ]
  }
 ],
 "metadata": {
  "kernelspec": {
   "display_name": "venv_a1chemy",
   "language": "python",
   "name": "venv"
  },
  "language_info": {
   "codemirror_mode": {
    "name": "ipython",
    "version": 3
   },
   "file_extension": ".py",
   "mimetype": "text/x-python",
   "name": "python",
   "nbconvert_exporter": "python",
   "pygments_lexer": "ipython3",
   "version": "3.7.5"
  },
  "toc": {
   "base_numbering": 1,
   "nav_menu": {},
   "number_sections": true,
   "sideBar": true,
   "skip_h1_title": false,
   "title_cell": "Table of Contents",
   "title_sidebar": "Contents",
   "toc_cell": false,
   "toc_position": {},
   "toc_section_display": true,
   "toc_window_display": false
  }
 },
 "nbformat": 4,
 "nbformat_minor": 4
}

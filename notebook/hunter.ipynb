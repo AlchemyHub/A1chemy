{
 "cells": [
  {
   "cell_type": "markdown",
   "metadata": {},
   "source": [
    "## 寻找市场上的强势股"
   ]
  },
  {
   "cell_type": "code",
   "execution_count": 1,
   "metadata": {},
   "outputs": [
    {
     "data": {
      "application/vnd.jupyter.widget-view+json": {
       "model_id": "e7f0c0e29e7d4a54a343ef5ab68ca90c",
       "version_major": 2,
       "version_minor": 0
      },
      "text/plain": [
       "HBox(children=(FloatProgress(value=0.0, max=16.0), HTML(value='')))"
      ]
     },
     "metadata": {},
     "output_type": "display_data"
    },
    {
     "name": "stdout",
     "output_type": "stream",
     "text": [
      "\n"
     ]
    },
    {
     "data": {
      "application/vnd.jupyter.widget-view+json": {
       "model_id": "2f4601d6faf44b448e15f1b49559482e",
       "version_major": 2,
       "version_minor": 0
      },
      "text/plain": [
       "HBox(children=(FloatProgress(value=0.0, max=38.0), HTML(value='')))"
      ]
     },
     "metadata": {},
     "output_type": "display_data"
    },
    {
     "name": "stdout",
     "output_type": "stream",
     "text": [
      "\n"
     ]
    },
    {
     "data": {
      "application/vnd.jupyter.widget-view+json": {
       "model_id": "eddff3e2a7474cd29da563d029004374",
       "version_major": 2,
       "version_minor": 0
      },
      "text/plain": [
       "HBox(children=(FloatProgress(value=0.0, max=42.0), HTML(value='')))"
      ]
     },
     "metadata": {},
     "output_type": "display_data"
    },
    {
     "name": "stdout",
     "output_type": "stream",
     "text": [
      "\n",
      "get SH517000 shares failed\n",
      "get SZ160222 shares failed\n",
      "get SZ163402 shares failed\n",
      "get SZ163406 shares failed\n",
      "get SZ161005 shares failed\n",
      "get SZ162703 shares failed\n",
      "get SZ161725 shares failed\n",
      "get SZ163415 shares failed\n",
      "get SZ162605 shares failed\n",
      "get SZ163417 shares failed\n",
      "get SH513550 shares failed\n",
      "get SH513050 shares failed\n",
      "get SH501050 shares failed\n"
     ]
    },
    {
     "data": {
      "application/vnd.jupyter.widget-view+json": {
       "model_id": "c7b0d329e14441acba263b54655e5e58",
       "version_major": 2,
       "version_minor": 0
      },
      "text/plain": [
       "HBox(children=(FloatProgress(value=0.0, max=46.0), HTML(value='')))"
      ]
     },
     "metadata": {},
     "output_type": "display_data"
    },
    {
     "name": "stdout",
     "output_type": "stream",
     "text": [
      "\n"
     ]
    },
    {
     "data": {
      "application/vnd.jupyter.widget-view+json": {
       "model_id": "294f92109a464ac491dfde28e878bd8f",
       "version_major": 2,
       "version_minor": 0
      },
      "text/plain": [
       "HBox(children=(FloatProgress(value=0.0, max=300.0), HTML(value='')))"
      ]
     },
     "metadata": {},
     "output_type": "display_data"
    },
    {
     "name": "stdout",
     "output_type": "stream",
     "text": [
      "\n"
     ]
    },
    {
     "data": {
      "application/vnd.jupyter.widget-view+json": {
       "model_id": "0987bdc25092413aafb9e2fd378f106a",
       "version_major": 2,
       "version_minor": 0
      },
      "text/plain": [
       "HBox(children=(FloatProgress(value=0.0, max=50.0), HTML(value='')))"
      ]
     },
     "metadata": {},
     "output_type": "display_data"
    },
    {
     "name": "stdout",
     "output_type": "stream",
     "text": [
      "\n"
     ]
    },
    {
     "data": {
      "application/vnd.jupyter.widget-view+json": {
       "model_id": "f95ea2be177a4e06a3dfa9ac1ec5b401",
       "version_major": 2,
       "version_minor": 0
      },
      "text/plain": [
       "Tab(children=(Output(), Output(), Output(), Output(), Output(), Output()), _titles={'0': 'CashCow', '1': 'TOP'…"
      ]
     },
     "metadata": {},
     "output_type": "display_data"
    }
   ],
   "source": [
    "import a1chemy.data_source as data_source\n",
    "import a1chemy.indicators as indicators\n",
    "import a1chemy.plot.plotly_tools as plotly_tools\n",
    "import pymongo\n",
    "import operator\n",
    "import pandas as pd\n",
    "from tqdm.notebook import tqdm\n",
    "import base64\n",
    "import ipywidgets as widgets\n",
    "# data \n",
    "def return_rate(t, day1, day2):\n",
    "    length = t.raw_data.shape[0]\n",
    "    if -length >= day1 or -length >= day2:\n",
    "        return -100\n",
    "    return 100*(t.close().iloc[day1] - t.close().iloc[day2])/t.close().iloc[day2]\n",
    "\n",
    "def bias(t, a, b):\n",
    "    #print(\"{} {}:{}, {}:{}\".format(t.name, a, t.raw_data[a].iloc[-1], b, t.raw_data[b].iloc[-1]))\n",
    "    return 100*(t.raw_data[a].iloc[-1] - t.raw_data[b].iloc[-1])/t.raw_data[b].iloc[-1]\n",
    "def roc(ticks=None, extend={}):\n",
    "    extend = extend if extend is not None else {}\n",
    "    return {\n",
    "        'name': ticks.name,\n",
    "        'symbol': ticks.symbol,\n",
    "        'CLOSE': \"{:.2f}\".format(ticks.close().iloc[-1]),\n",
    "        '1D': return_rate(ticks, -1, -2),\n",
    "        '5D': return_rate(ticks, -1, -6),\n",
    "        '1M': return_rate(ticks, -1, -21),\n",
    "        'C/S': bias(ticks, 'close', 'EMA20'),\n",
    "        'S/M': bias(ticks, 'EMA20', 'EMA60'),\n",
    "        'M/L': bias(ticks, 'EMA60', 'EMA120'),\n",
    "        'thumbnail': ticks_image_html(ticks, 20),\n",
    "        'shares': extend['shares'](exchange=ticks.exchange, symbol=ticks.symbol, count=20) if 'shares' in extend else None\n",
    "    }\n",
    "def percent_color(val):\n",
    "    \"\"\"\n",
    "    Takes a scalar and returns a string with\n",
    "    the css property `'color: red'` for negative\n",
    "    strings, black otherwise.\n",
    "    \"\"\"\n",
    "    color = 'red' if val < 0 else 'green'\n",
    "    return 'color: %s' % color\n",
    "\n",
    "def ticks_image_html(ticks, count):\n",
    "    t = plotly_tools.ticks_thumbnail(ticks=ticks, start=-count)\n",
    "    encode_image = base64.b64encode(t.data).decode()\n",
    "    return '<img src=\"data:image/png;base64,{}\">'.format(encode_image)\n",
    "\n",
    "def shares_image_html(exchange, symbol, count):\n",
    "    try:\n",
    "        fund = mongo_fund_client.find_one(exchange=exchange, symbol=symbol)\n",
    "        f = plotly_tools.fund_amount_thumbnail(fund=fund, start=-count)\n",
    "        encode_image = base64.b64encode(f.data).decode()\n",
    "        return '<img src=\"data:image/png;base64,{}\">'.format(encode_image)\n",
    "    except Exception as e:\n",
    "        print(\"get {} shares failed\".format(symbol))\n",
    "mongo_client = pymongo.MongoClient(\"mongodb://localhost:27017/\", username='a1chemy', password='1B2C9046-E3CC-447F-9961-E125759BA44F')\n",
    "mongo_ticks_client = data_source.MongoTicks(mongo_client)\n",
    "mongo_tags_client = data_source.MongoTags(mongo_client)\n",
    "mongo_fund_client = data_source.MongoFund(mongo_client)\n",
    "\n",
    "def show(tag_id=None, extend=None):\n",
    "    stocks_tree = mongo_tags_client.tree(id=tag_id)\n",
    "    stocks = []\n",
    "    for id, stock_tag in tqdm(stocks_tree.root.children.items()):\n",
    "        try:\n",
    "            exchange=stock_tag.values['exchange']\n",
    "            symbol =stock_tag.values['symbol']\n",
    "            ticks = mongo_ticks_client.find_one(exchange=exchange, symbol=symbol)\n",
    "            ticks.raw_data['EMA20'] = indicators.ema(data=ticks.close(), day=20)\n",
    "            ticks.raw_data['EMA60'] = indicators.ema(data=ticks.close(), day=60)\n",
    "            ticks.raw_data['EMA120'] = indicators.ema(data=ticks.close(), day=120)\n",
    "            stocks.append(ticks)\n",
    "        except Exception as e:\n",
    "            print(\"get data failed, exchange:{} symbol:{}\".format(exchange, symbol))\n",
    "    roc_list = []\n",
    "    for stock_tick in stocks:\n",
    "        ticks_data = roc(stock_tick, extend=extend)\n",
    "        roc_list.append(ticks_data)\n",
    "    sorted_roc_list = sorted(roc_list, key = operator.itemgetter('5D', 'C/S', 'S/M', 'M/L'), reverse=True)\n",
    "    df=pd.DataFrame(sorted_roc_list)\n",
    "\n",
    "    # df.style\n",
    "    percent_list = list(df)[3:-2]\n",
    "    return df.style.format(\"{:.2f}\", subset=percent_list).applymap(percent_color, subset=percent_list)\n",
    "\n",
    "# show('CASH_COW')\n",
    "# show('TOP')\n",
    "# show('ZH_ETF', extend={'shares': shares_image_html})\n",
    "# show('ZH_STOCK')\n",
    "# show('csi300')\n",
    "\n",
    "def setup_ui(df):\n",
    "    out = widgets.Output()\n",
    "    with out:\n",
    "        display(df)\n",
    "    return out\n",
    "\n",
    "titles = ['CashCow', 'TOP', 'ZH_ETF', 'ZH_STOCK', '沪深300', '上证50']\n",
    "dataframes = [show('CASH_COW'), show('TOP'), show('ZH_ETF', extend={'shares': shares_image_html}), show('ZH_STOCK'), show('csi300'), show('sse50')]\n",
    "outputs = [setup_ui(df) for df in dataframes]\n",
    "tab = widgets.Tab()\n",
    "tab.children = outputs\n",
    "for i in range(len(outputs)):\n",
    "    tab.set_title(i, titles[i])\n",
    "tab"
   ]
  }
 ],
 "metadata": {
  "kernelspec": {
   "display_name": "venv_a1chemy",
   "language": "python",
   "name": "venv"
  },
  "language_info": {
   "codemirror_mode": {
    "name": "ipython",
    "version": 3
   },
   "file_extension": ".py",
   "mimetype": "text/x-python",
   "name": "python",
   "nbconvert_exporter": "python",
   "pygments_lexer": "ipython3",
   "version": "3.7.5"
  }
 },
 "nbformat": 4,
 "nbformat_minor": 4
}

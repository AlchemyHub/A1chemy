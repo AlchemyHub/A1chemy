{
 "cells": [
  {
   "cell_type": "markdown",
   "metadata": {},
   "source": [
    "## 寻找市场上的强势股"
   ]
  },
  {
   "cell_type": "code",
   "execution_count": null,
   "metadata": {},
   "outputs": [],
   "source": [
    "import a1chemy.data_source as data_source\n",
    "import pymongo\n",
    "\n",
    "mongo_client = pymongo.MongoClient(\"mongodb://localhost:27017/\", username='a1chemy', password='1B2C9046-E3CC-447F-9961-E125759BA44F')\n",
    "mongo_ticks_client = data_source.MongoTicks(mongo_client)\n",
    "mongo_tags_client = data_source.MongoTags(mongo_client)\n",
    "\n",
    "def roc(ticks):\n",
    "    def rate(t, day1, day2):\n",
    "        return (t.close().iloc[day1] - t.close().iloc[day2])/t.close().iloc[day2]\n",
    "    \n",
    "    close = ticks.close().iloc[-1]\n",
    "    short = ticks.close().iloc[-21]\n",
    "    medium = ticks.close().iloc[-61]\n",
    "    long = ticks.close().iloc[-121]\n",
    "    return {\n",
    "        'ticks': ticks,\n",
    "        '1D': rate(ticks, -1, -2),\n",
    "        '5D': rate(ticks, -1, -6),\n",
    "        '1M': rate(ticks, -1, -20),\n",
    "        'C/S': rate(ticks, -1, -21),\n",
    "        'S/M': rate(ticks, -21, -61),\n",
    "        'M/L': rate(ticks, -61, -121),\n",
    "    }"
   ]
  },
  {
   "cell_type": "code",
   "execution_count": null,
   "metadata": {},
   "outputs": [],
   "source": [
    "from tqdm.notebook import tqdm\n",
    "stocks_tree = mongo_tags_client.tree(id='csi300')\n",
    "stocks = []\n",
    "for id, stock_tag in tqdm(stocks_tree.root.children.items()):\n",
    "    exchange=id[0:2]\n",
    "    symbol =id[3:]\n",
    "    ticks = mongo_ticks_client.find_one(exchange=exchange, symbol=symbol)\n",
    "    stocks.append(ticks)"
   ]
  },
  {
   "cell_type": "code",
   "execution_count": null,
   "metadata": {},
   "outputs": [],
   "source": [
    "roc_list = []\n",
    "for stock_tick in stocks:\n",
    "    roc_list.append(roc(stock_tick))"
   ]
  },
  {
   "cell_type": "code",
   "execution_count": null,
   "metadata": {},
   "outputs": [],
   "source": [
    "import operator\n",
    "sorted_roc_list = sorted(roc_list, key = operator.itemgetter('C/S', 'S/M', 'M/L'))\n",
    "for i in sorted_roc_list:\n",
    "    print(('{}, {}, {:.4f}, {:.4f}, {:.4f}').format(i['ticks'].name, i['ticks'].symbol, i['C/S'], i['S/M'], i['M/L']))"
   ]
  }
 ],
 "metadata": {
  "kernelspec": {
   "display_name": "venv_a1chemy",
   "language": "python",
   "name": "venv"
  },
  "language_info": {
   "codemirror_mode": {
    "name": "ipython",
    "version": 3
   },
   "file_extension": ".py",
   "mimetype": "text/x-python",
   "name": "python",
   "nbconvert_exporter": "python",
   "pygments_lexer": "ipython3",
   "version": "3.7.5"
  }
 },
 "nbformat": 4,
 "nbformat_minor": 4
}

{
 "cells": [
  {
   "cell_type": "markdown",
   "metadata": {},
   "source": [
    "## 寻找市场上的强势股"
   ]
  },
  {
   "cell_type": "code",
   "execution_count": 3,
   "metadata": {},
   "outputs": [
    {
     "name": "stdout",
     "output_type": "stream",
     "text": [
      "43.03\n"
     ]
    }
   ],
   "source": [
    "import a1chemy.data_source as data_source\n",
    "import pymongo\n",
    "\n",
    "mongo_client = pymongo.MongoClient(\"mongodb://localhost:27017/\", username='a1chemy', password='1B2C9046-E3CC-447F-9961-E125759BA44F')\n",
    "mongo_ticks_client = data_source.MongoTicks(mongo_client)\n",
    "\n",
    "ticks = mongo_ticks_client.find_one(exchange=None, symbol='SH600036')\n",
    "ticks.close().iloc[-1]\n",
    "print(ticks.close().iloc[-21])\n",
    "print(ticks.close().iloc[-61])\n",
    "print(ticks.close().iloc[-121])"
   ]
  }
 ],
 "metadata": {
  "kernelspec": {
   "display_name": "venv_a1chemy",
   "language": "python",
   "name": "venv"
  },
  "language_info": {
   "codemirror_mode": {
    "name": "ipython",
    "version": 3
   },
   "file_extension": ".py",
   "mimetype": "text/x-python",
   "name": "python",
   "nbconvert_exporter": "python",
   "pygments_lexer": "ipython3",
   "version": "3.7.5"
  }
 },
 "nbformat": 4,
 "nbformat_minor": 4
}

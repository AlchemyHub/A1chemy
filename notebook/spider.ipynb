{
 "cells": [
  {
   "cell_type": "code",
   "execution_count": 2,
   "metadata": {},
   "outputs": [],
   "source": [
    "import pymongo\n",
    "import a1chemy.data_source as data_source\n",
    "from tqdm.notebook import tqdm\n",
    "import random\n",
    "import time\n",
    "from a1chemy.common import Tag\n",
    "import json\n",
    "\n",
    "mongo_client = pymongo.MongoClient(\"mongodb://localhost:27017/\", username='a1chemy', password='1B2C9046-E3CC-447F-9961-E125759BA44F')\n",
    "mongo_ticks_client = data_source.MongoTicks(mongo_client=mongo_client)\n",
    "mongo_tag_client = data_source.MongoTags(mongo_client=mongo_client)\n",
    "\n",
    "\n",
    "xueqiu_client = data_source.XueQiuDataParser()\n",
    "\n",
    "\n",
    "def grabNationData(nation_tag_id, params, url, exchange_extractor):\n",
    "    mongo_tag_client.tags_collection.delete_many({'parent':nation_tag_id})\n",
    "    all_stocks=xueqiu_client.get_all_stocks(params=params, url=url, exchange_extractor=exchange_extractor)\n",
    "    print(\"stocks size=\" + str(len(all_stocks)))\n",
    "    nation_tag = Tag(id=nation_tag_id, parent=None)\n",
    "    mongo_tag_client.insert(tag=nation_tag)\n",
    "    for stock in tqdm(all_stocks):\n",
    "        values = {\n",
    "            'symbol': stock.symbol,\n",
    "            'exchange': stock.exchange\n",
    "        }\n",
    "        #print(\"stock_info, exchange={}, symbol={}\".format(stock.exchange, stock.symbol))\n",
    "        tag = Tag(id=stock.to_tag_id(), parent=nation_tag.id, values=values)\n",
    "        mongo_tag_client.insert(tag=tag)\n",
    "        #print(\"tag: id={}, parent={}, values={}\".format(tag.id, tag.parent, values))\n",
    "\n",
    "def grabListData(pid, tag_id):\n",
    "    mongo_tag_client.tags_collection.delete_many({'parent':tag_id})\n",
    "    all_stocks=xueqiu_client.list(pid=pid)\n",
    "    print(\"stocks size=\" + str(len(all_stocks)))\n",
    "    list_tag = Tag(id=tag_id, parent=None)\n",
    "    mongo_tag_client.insert(tag=list_tag)\n",
    "    for stock in tqdm(all_stocks):\n",
    "        values = {\n",
    "            'symbol': stock.symbol,\n",
    "            'exchange': stock.exchange\n",
    "        }\n",
    "        #print(\"stock_info, exchange={}, symbol={}\".format(stock.exchange, stock.symbol))\n",
    "        tag = Tag(id=stock.to_tag_id(), parent=list_tag.id, values=values)\n",
    "        mongo_tag_client.insert(tag=tag)\n",
    "        #print(\"tag: id={}, parent={}, values={}\".format(tag.id, tag.parent, values))\n",
    "\n",
    "def grabTicksData(nation_tag_id, params, url, exchange_extractor):\n",
    "    all_stocks=xueqiu_client.get_all_stocks(params=params, url=url, exchange_extractor=exchange_extractor)\n",
    "    for stock in tqdm(all_stocks):\n",
    "        try:\n",
    "#             time.sleep(random.uniform(0.1,0.3))\n",
    "            stock_ticks = xueqiu_client.history(symbol=stock.symbol, exchange=stock.exchange, period = 'day')\n",
    "            stock_ticks.name = stock.name\n",
    "            mongo_ticks_client.delete(exchange=None, symbol=stock.symbol)\n",
    "            mongo_ticks_client.upsert(exchange=stock.exchange, symbol=stock.symbol, ticks=stock_ticks)\n",
    "        except Exception as e:\n",
    "            print(\"exception when get data, name=\" + stock.name)"
   ]
  },
  {
   "cell_type": "code",
   "execution_count": 3,
   "metadata": {},
   "outputs": [],
   "source": [
    "cn_stock_params = (\n",
    "            ('page', 1),\n",
    "            ('size', 5000),\n",
    "            ('order', 'desc'),\n",
    "            ('orderby', 'percent'),\n",
    "            ('order_by', 'percent'),\n",
    "            ('market', 'CN'),\n",
    "            ('type', 'sh_sz'),\n",
    "            ('_', str(int(round(time.time() * 1000)))),\n",
    "        )\n",
    "hk_stock_params = (\n",
    "            ('page', 1),\n",
    "            ('size', 5000),\n",
    "            ('order', 'desc'),\n",
    "            ('orderby', 'percent'),\n",
    "            ('order_by', 'percent'),\n",
    "            ('market', 'HK'),\n",
    "            ('type', 'hk'),\n",
    "            ('_', str(int(round(time.time() * 1000)))),\n",
    "        )\n",
    "cn_etf_params = (\n",
    "    ('type', '18'),\n",
    "    ('parent_type', '1'),\n",
    "    ('order', 'desc'),\n",
    "    ('order_by', 'percent'),\n",
    "    ('page', '1'),\n",
    "    ('size', '1000'),\n",
    "    ('_', str(int(round(time.time() * 1000)))),\n",
    ")\n",
    "cn_lof_params = (\n",
    "    ('type', '19'),\n",
    "    ('parent_type', '1'),\n",
    "    ('order', 'desc'),\n",
    "    ('order_by', 'percent'),\n",
    "    ('page', '1'),\n",
    "    ('size', '1000'),\n",
    "    ('_', str(int(round(time.time() * 1000)))),\n",
    ")"
   ]
  },
  {
   "cell_type": "code",
   "execution_count": null,
   "metadata": {},
   "outputs": [],
   "source": [
    "grabNationData(nation_tag_id='cn_stock', params=cn_stock_params, url=None, exchange_extractor=lambda x:x[0:2])\n",
    "grabTicksData(nation_tag_id='cn_stock', params=cn_stock_params, url=None, exchange_extractor=lambda x:x[0:2])"
   ]
  },
  {
   "cell_type": "code",
   "execution_count": null,
   "metadata": {},
   "outputs": [],
   "source": [
    "grabNationData(nation_tag_id='hk_stock', params=hk_stock_params, url=None, exchange_extractor=lambda x:'HKEX')\n",
    "grabTicksData(nation_tag_id='hk_stock', params=hk_stock_params, url=None, exchange_extractor=lambda x:'HKEX')"
   ]
  },
  {
   "cell_type": "code",
   "execution_count": null,
   "metadata": {
    "scrolled": false
   },
   "outputs": [],
   "source": [
    "etf_url='https://xueqiu.com/service/v5/stock/screener/fund/list'\n",
    "grabNationData(nation_tag_id='cn_etf', params=cn_etf_params, url=etf_url, exchange_extractor=lambda x:x[0:2])\n",
    "grabTicksData(nation_tag_id='cn_etf', params=cn_etf_params, url=etf_url, exchange_extractor=lambda x:x[0:2])\n",
    "grabNationData(nation_tag_id='cn_lof', params=cn_lof_params, url=etf_url, exchange_extractor=lambda x:x[0:2])\n",
    "grabTicksData(nation_tag_id='cn_lof', params=cn_lof_params, url=etf_url, exchange_extractor=lambda x:x[0:2])"
   ]
  },
  {
   "cell_type": "code",
   "execution_count": null,
   "metadata": {
    "scrolled": true
   },
   "outputs": [],
   "source": [
    "grabListData(pid=5, tag_id='ZH_ETF')\n",
    "grabListData(pid=13, tag_id='TOP')\n",
    "grabListData(pid=14, tag_id='CASH_COW')"
   ]
  },
  {
   "cell_type": "code",
   "execution_count": null,
   "metadata": {},
   "outputs": [],
   "source": [
    "grabListData(pid=11, tag_id='ZH_STOCK')"
   ]
  }
 ],
 "metadata": {
  "kernelspec": {
   "display_name": "venv_a1chemy",
   "language": "python",
   "name": "venv"
  },
  "language_info": {
   "codemirror_mode": {
    "name": "ipython",
    "version": 3
   },
   "file_extension": ".py",
   "mimetype": "text/x-python",
   "name": "python",
   "nbconvert_exporter": "python",
   "pygments_lexer": "ipython3",
   "version": "3.7.5"
  }
 },
 "nbformat": 4,
 "nbformat_minor": 4
}

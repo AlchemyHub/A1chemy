{
 "cells": [
  {
   "cell_type": "code",
   "execution_count": null,
   "metadata": {
    "scrolled": false
   },
   "outputs": [],
   "source": [
    "from a1chemy.data_source import SinaFinanceClient, EastMoneyClient\n",
    "from a1chemy.common import OptionConfig, OptionMap, Underlying\n",
    "from a1chemy.option.pricing import black_scholes, black_76, gbs\n",
    "import datetime\n",
    "\n",
    "east_money_client = EastMoneyClient()\n",
    "\n",
    "\n",
    "symbol = 'SH510300'\n",
    "underlying = Underlying(price=5.338)\n",
    "config = OptionConfig(interest_rate=0.029120, pricing_model=gbs)\n",
    "option_map = OptionMap()\n",
    "expiry_list = [\n",
    "    '2021-06-23',\n",
    "    '2021-07-28',\n",
    "    '2021-09-22',\n",
    "    '2021-12-22'\n",
    "]\n",
    "\n",
    "expiry_date_list = [datetime.date.fromisoformat(expiry) for expiry in expiry_list]\n",
    "\n",
    "for time_to_expiry in expiry_date_list:\n",
    "    east_money_client.get_option_data(underlying, config, option_map, 'SH510300', time_to_expiry)"
   ]
  },
  {
   "cell_type": "code",
   "execution_count": 34,
   "metadata": {},
   "outputs": [
    {
     "name": "stdout",
     "output_type": "stream",
     "text": [
      "delta:48673.701891931305(-1326.2981080686955), gamma:-34119.28226570149 theta:24339.984105034287 vega:-13396.083966412974\n"
     ]
    }
   ],
   "source": [
    "# for expire_date, chain in option_map.index.items():\n",
    "#     print(expire_date)\n",
    "#     for strike, straddle in chain.index.items():\n",
    "#         print('{} {} {} {}'.format(expire_date, straddle.strike, straddle.call.price, straddle.put.price))\n",
    "\n",
    "\n",
    "def calculate_positions(positions):\n",
    "    delta = 0\n",
    "    delta_without_underlying = 0\n",
    "    gamma = 0\n",
    "    theta = 0\n",
    "    vega = 0\n",
    "\n",
    "    for p in positions:\n",
    "        if p[0] == 'underlying':\n",
    "            delta += p[1]\n",
    "        else:\n",
    "            o = option_map.get_option(p[2], p[3], p[1])\n",
    "            delta += p[4] * o.delta\n",
    "            delta_without_underlying += p[4] * o.delta\n",
    "            gamma += p[4] * o.gamma\n",
    "            theta += p[4] * o.theta\n",
    "            vega += p[4] * o.vega\n",
    "    return delta, delta_without_underlying, gamma, theta, vega\n",
    "\n",
    "positions = [\n",
    "    ('underlying', 50000),\n",
    "    ('option', 'c', expiry_date_list[0], 5.5, -20000),\n",
    "    ('option', 'p', expiry_date_list[0], 5.25, -10000),\n",
    "    ('option', 'c', expiry_date_list[1], 5.5, 10000),\n",
    "    ('option', 'c', expiry_date_list[1], 5.75, -10000),\n",
    "]\n",
    "\n",
    "delta, delta_without_underlying, gamma, theta, vega = calculate_positions(positions)\n",
    "print('delta:{}({}), gamma:{} theta:{} vega:{}'.format(delta, delta_without_underlying, gamma, theta, vega))"
   ]
  }
 ],
 "metadata": {
  "kernelspec": {
   "display_name": "venv_a1chemy",
   "language": "python",
   "name": "venv"
  },
  "language_info": {
   "codemirror_mode": {
    "name": "ipython",
    "version": 3
   },
   "file_extension": ".py",
   "mimetype": "text/x-python",
   "name": "python",
   "nbconvert_exporter": "python",
   "pygments_lexer": "ipython3",
   "version": "3.7.5"
  }
 },
 "nbformat": 4,
 "nbformat_minor": 4
}

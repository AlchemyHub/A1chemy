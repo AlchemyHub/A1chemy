{
 "cells": [
  {
   "cell_type": "code",
   "execution_count": null,
   "metadata": {
    "scrolled": true
   },
   "outputs": [],
   "source": [
    "from a1chemy.data_source import SinaFinanceClient\n",
    "from a1chemy.common import OptionConfig\n",
    "from a1chemy.option.pricing import black_scholes, black_76, gbs\n",
    "\n",
    "config = OptionConfig(interest_rate=0.029120, pricing_model=gbs)\n",
    "s = SinaFinanceClient()\n",
    "m = s.get_option_map(symbol='SH510300', year=21, month=9, config=config)\n",
    "for expire_date, chain in m.index.items():\n",
    "    print(expire_date)\n",
    "    for strike, straddle in chain.index.items():\n",
    "        print('{} {} {} {}'.format(expire_date, straddle.strike, straddle.call.price, straddle.put.price))"
   ]
  },
  {
   "cell_type": "code",
   "execution_count": null,
   "metadata": {},
   "outputs": [],
   "source": [
    "import datetime\n",
    "\n",
    "expire_date = datetime.date.fromisoformat('2021-09-22')\n",
    "o = m.get_option(expire_date, strike=4.5, option_type='c')\n",
    "print(o.config.pricing_model.__name__)\n",
    "print(o.config.interest_rate)\n",
    "o.toString()"
   ]
  }
 ],
 "metadata": {
  "kernelspec": {
   "display_name": "venv_a1chemy",
   "language": "python",
   "name": "venv"
  },
  "language_info": {
   "codemirror_mode": {
    "name": "ipython",
    "version": 3
   },
   "file_extension": ".py",
   "mimetype": "text/x-python",
   "name": "python",
   "nbconvert_exporter": "python",
   "pygments_lexer": "ipython3",
   "version": "3.7.5"
  }
 },
 "nbformat": 4,
 "nbformat_minor": 4
}

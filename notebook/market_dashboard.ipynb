{
 "cells": [
  {
   "cell_type": "code",
   "execution_count": 11,
   "metadata": {},
   "outputs": [],
   "source": [
    "import a1chemy.data_source as data_source\n",
    "import a1chemy.indicators as indicators\n",
    "import a1chemy.plot.plotly_tools as plotly_tools\n",
    "import pymongo\n",
    "import operator\n",
    "import pandas as pd\n",
    "from tqdm.notebook import tqdm\n",
    "import base64\n",
    "\n",
    "mongo_client = pymongo.MongoClient(\"mongodb://localhost:27017/\", username='a1chemy', password='1B2C9046-E3CC-447F-9961-E125759BA44F')\n",
    "mongo_ticks_client = data_source.MongoTicks(mongo_client)\n",
    "mongo_tags_client = data_source.MongoTags(mongo_client)\n",
    "mongo_fund_client = data_source.MongoFund(mongo_client)\n",
    "mongo_fund_client = data_source.MongoFund(mongo_client)"
   ]
  },
  {
   "cell_type": "code",
   "execution_count": 12,
   "metadata": {},
   "outputs": [],
   "source": [
    "exchange='SH'\n",
    "symbol='SH510300'\n",
    "ticks = mongo_ticks_client.find_one(exchange=exchange, symbol=symbol)\n",
    "fund = mongo_fund_client.find_one(exchange=exchange, symbol=symbol)"
   ]
  },
  {
   "cell_type": "code",
   "execution_count": 37,
   "metadata": {
    "scrolled": true
   },
   "outputs": [
    {
     "data": {
      "application/vnd.jupyter.widget-view+json": {
       "model_id": "4dae728a45084502b0f7e117365d0cf2",
       "version_major": 2,
       "version_minor": 0
      },
      "text/plain": [
       "VBox(children=(HBox(children=(Label(value='Broad Market', layout=Layout(width='80px')), Label(value='SYMBOL', …"
      ]
     },
     "metadata": {},
     "output_type": "display_data"
    }
   ],
   "source": [
    "import ipywidgets as widgets\n",
    "\n",
    "count=20\n",
    "\n",
    "thumbnail = plotly_tools.ticks_thumbnail(ticks=ticks, start=-count)\n",
    "shares = plotly_tools.fund_amount_thumbnail(fund=fund, start=-count)\n",
    "\n",
    "layouts = [\n",
    "    widgets.Layout(width='80px'),\n",
    "    widgets.Layout(width='90px', display='flex', justify_content=\"center\"),\n",
    "    widgets.Layout(width='40px', display='flex', justify_content=\"center\"),\n",
    "    widgets.Layout(width='120px', display='flex', justify_content=\"center\"),\n",
    "    widgets.Layout(width='120px', display='flex', justify_content=\"center\")\n",
    "]\n",
    "\n",
    "title=widgets.HBox([widgets.Label(value='Broad Market', layout=layouts[0]), \n",
    "                    widgets.Label(value='SYMBOL', layout=layouts[1]),\n",
    "                    widgets.Label(value='5D%', layout=layouts[2]), \n",
    "                    widgets.Label(value='1M', layout=layouts[3]), \n",
    "                    widgets.Label(value='shares', layout=layouts[4])])\n",
    "value1=widgets.HBox([widgets.Label(value=ticks.name, layout=layouts[0]), \n",
    "                     widgets.Label(value=ticks.symbol, layout=layouts[1]), \n",
    "                     widgets.Label(value='5', layout=layouts[2]), \n",
    "                     widgets.Image(value=thumbnail.data, layout=layouts[3]),\n",
    "                     widgets.Image(value=shares.data, layout=layouts[4])])\n",
    "\n",
    "widgets.VBox([title, value1])"
   ]
  }
 ],
 "metadata": {
  "kernelspec": {
   "display_name": "venv_a1chemy",
   "language": "python",
   "name": "venv"
  },
  "language_info": {
   "codemirror_mode": {
    "name": "ipython",
    "version": 3
   },
   "file_extension": ".py",
   "mimetype": "text/x-python",
   "name": "python",
   "nbconvert_exporter": "python",
   "pygments_lexer": "ipython3",
   "version": "3.7.5"
  }
 },
 "nbformat": 4,
 "nbformat_minor": 4
}

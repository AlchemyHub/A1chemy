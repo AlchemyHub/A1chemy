{
 "cells": [
  {
   "cell_type": "code",
   "execution_count": 13,
   "metadata": {
    "scrolled": false
   },
   "outputs": [
    {
     "name": "stdout",
     "output_type": "stream",
     "text": [
      "rate:0.0002887755, APY:0.3162091725\n"
     ]
    }
   ],
   "source": [
    "import requests\n",
    "import urllib\n",
    "\n",
    "import requests\n",
    "\n",
    "headers = {\n",
    "    'authority': 'www.binance.com',\n",
    "    'x-trace-id': 'e19ef232-01c3-440f-bbb6-6c19ddfd8b4f',\n",
    "    'csrftoken': 'd41d8cd98f00b204e9800998ecf8427e',\n",
    "    'x-ui-request-trace': 'e19ef232-01c3-440f-bbb6-6c19ddfd8b4f',\n",
    "    'user-agent': 'Mozilla/5.0 (Macintosh; Intel Mac OS X 10_15_7) AppleWebKit/537.36 (KHTML, like Gecko) Chrome/92.0.4515.159 Safari/537.36',\n",
    "    'content-type': 'application/json',\n",
    "    'lang': 'zh-CN',\n",
    "    'fvideo-id': '3131036f18cea6b5882e25d39c080b2a34bdacdc',\n",
    "    'sec-ch-ua-mobile': '?0',\n",
    "    'device-info': 'eyJzY3JlZW5fcmVzb2x1dGlvbiI6IjI1NjAsMTQ0MCIsImF2YWlsYWJsZV9zY3JlZW5fcmVzb2x1dGlvbiI6IjI1NjAsMTM1MiIsInN5c3RlbV92ZXJzaW9uIjoiTWFjIE9TIDEwLjE1LjciLCJicmFuZF9tb2RlbCI6InVua25vd24iLCJzeXN0ZW1fbGFuZyI6ImVuIiwidGltZXpvbmUiOiJHTVQrOCIsInRpbWV6b25lT2Zmc2V0IjotNDgwLCJ1c2VyX2FnZW50IjoiTW96aWxsYS81LjAgKE1hY2ludG9zaDsgSW50ZWwgTWFjIE9TIFggMTBfMTVfNykgQXBwbGVXZWJLaXQvNTM3LjM2IChLSFRNTCwgbGlrZSBHZWNrbykgQ2hyb21lLzkyLjAuNDUxNS4xNTkgU2FmYXJpLzUzNy4zNiIsImxpc3RfcGx1Z2luIjoiQ2hyb21lIFBERiBQbHVnaW4sQ2hyb21lIFBERiBWaWV3ZXIsTmF0aXZlIENsaWVudCIsImNhbnZhc19jb2RlIjoiYTMxMWNjZTEiLCJ3ZWJnbF92ZW5kb3IiOiJJbnRlbCBJbmMuIiwid2ViZ2xfcmVuZGVyZXIiOiJJbnRlbCBJcmlzIFBybyBPcGVuR0wgRW5naW5lIiwiYXVkaW8iOiIxMjQuMDQzNDc2NTc4MDgxMDMiLCJwbGF0Zm9ybSI6Ik1hY0ludGVsIiwid2ViX3RpbWV6b25lIjoiQXNpYS9TaGFuZ2hhaSIsImRldmljZV9uYW1lIjoiQ2hyb21lIFY5Mi4wLjQ1MTUuMTU5IChNYWMgT1MpIiwiZmluZ2VycHJpbnQiOiIxYjJlNDcxMmQ0MTE2MjMyNzRmM2JmY2UyZWYwNDkwNSIsImRldmljZV9pZCI6IiIsInJlbGF0ZWRfZGV2aWNlX2lkcyI6IjE2MzA4MzQyMTg2MDI0cjdZekRlVVZ0cnF1SENtcmdtIn0=',\n",
    "    'bnc-uuid': '94b7550d-b7e7-4759-9e73-8c2654eb487f',\n",
    "    'clienttype': 'web',\n",
    "    'sec-ch-ua': '\"Chromium\";v=\"92\", \" Not A;Brand\";v=\"99\", \"Google Chrome\";v=\"92\"',\n",
    "    'accept': '*/*',\n",
    "    'origin': 'https://www.binance.com',\n",
    "    'sec-fetch-site': 'same-origin',\n",
    "    'sec-fetch-mode': 'cors',\n",
    "    'sec-fetch-dest': 'empty',\n",
    "    'referer': 'https://www.binance.com/zh-CN/futures/funding-history/quarterly/1',\n",
    "    'accept-language': 'en,zh-CN;q=0.9,zh;q=0.8,zh-TW;q=0.7',\n",
    "    'cookie': 'cid=sVkO3UaG; nft-init-compliance=true; bnc-uuid=94b7550d-b7e7-4759-9e73-8c2654eb487f; source=referral; campaign=www.binance.com; userPreferredCurrency=USD_USD; fiat-prefer-currency=AUD; _ga=GA1.2.619545540.1630834191; home-ui-ab=A; __BINANCE_USER_DEVICE_ID__={\"9461cb60a241ebfb77d37c6551cee9d3\":{\"date\":1630834218794,\"value\":\"16308342186024r7YzDeUVtrquHCmrgm\"}}; sensorsdata2015jssdkcross=%7B%22distinct_id%22%3A%2235124519%22%2C%22first_id%22%3A%2217baf3123f9205-0e3f3f0af20bdd-35667c03-3686400-17baf3123fa9ea%22%2C%22props%22%3A%7B%22%24latest_traffic_source_type%22%3A%22%E7%9B%B4%E6%8E%A5%E6%B5%81%E9%87%8F%22%2C%22%24latest_search_keyword%22%3A%22%E6%9C%AA%E5%8F%96%E5%88%B0%E5%80%BC_%E7%9B%B4%E6%8E%A5%E6%89%93%E5%BC%80%22%2C%22%24latest_referrer%22%3A%22%22%7D%2C%22%24device_id%22%3A%2217baf3123f9205-0e3f3f0af20bdd-35667c03-3686400-17baf3123fa9ea%22%7D; defaultMarketTab=favorite; _gid=GA1.2.80112752.1631030836; BNC_FV_KEY=3131036f18cea6b5882e25d39c080b2a34bdacdc; BNC_FV_KEY_EXPIRE=1631117237642; monitor-uuid=e2b9b47b-ce8c-4b1f-bcb7-8c626babe917; lang=zh-cn',\n",
    "}\n",
    "\n",
    "data = '{\"symbol\":\"BNBUSD_PERP\",\"page\":1,\"rows\":20}'\n",
    "\n",
    "\n",
    "proxies = {\n",
    "    \"http\": \"http://127.0.0.1:1087\",\n",
    "    \"https\": \"https://127.0.0.1:1087\"\n",
    "}\n",
    "\n",
    "response = requests.post('https://www.binance.com/bapi/futures/v1/public/delivery/common/get-funding-rate-history', headers=headers, data=data, proxies=proxies)\n",
    "data = response.json()\n",
    "data['data']\n",
    "rates = 0.0\n",
    "total = 1.0\n",
    "for d in data['data']:\n",
    "    r = float(d['lastFundingRate'])\n",
    "    rates += r    \n",
    "rate = rates/len(data['data'])\n",
    "print('rate:{}, APY:{}'.format(rate, rate*3*365))"
   ]
  }
 ],
 "metadata": {
  "kernelspec": {
   "display_name": "venv_a1chemy",
   "language": "python",
   "name": "venv"
  },
  "language_info": {
   "codemirror_mode": {
    "name": "ipython",
    "version": 3
   },
   "file_extension": ".py",
   "mimetype": "text/x-python",
   "name": "python",
   "nbconvert_exporter": "python",
   "pygments_lexer": "ipython3",
   "version": "3.7.5"
  }
 },
 "nbformat": 4,
 "nbformat_minor": 4
}

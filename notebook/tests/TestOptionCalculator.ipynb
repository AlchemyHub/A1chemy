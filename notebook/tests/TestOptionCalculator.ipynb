{
 "cells": [
  {
   "cell_type": "code",
   "execution_count": null,
   "metadata": {},
   "outputs": [],
   "source": [
    "import operator\n",
    "import datetime as dt\n",
    "from a1chemy.util.option_greeks_calculator import merton, euro_implied_vol\n",
    "import a1chemy.util.option_greeks_calculator as gbs\n",
    "import numpy as np\n",
    "\n",
    "class Instrument(object):\n",
    "    def __init__(self, price) -> None:\n",
    "        self.price = price\n",
    "\n",
    "\n",
    "class Option(object):\n",
    "    def __init__(self, **kargs):\n",
    "        self.date = kargs['date']\n",
    "        self.strike = kargs['strike']\n",
    "        self.price = kargs['price']\n",
    "        self.option_type = kargs['option_type']\n",
    "        self.instrument = kargs['instrument']\n",
    "        self.iv = kargs.get('iv')\n",
    "        self.delta = kargs.get('delta')\n",
    "        self.gamma = kargs.get('gamma')\n",
    "        self.theta = kargs.get('theta')\n",
    "        self.vega = kargs.get('vega')\n",
    "        self.rho = kargs.get('rho')\n",
    "\n",
    "    def recalculate_greeks(self, r, q):\n",
    "        current_price = self.instrument.price\n",
    "#         t = float(np.busday_count( datetime.date.today(), self.date))/256\n",
    "        t = 0.030136986301369864\n",
    "        self.iv = euro_implied_vol(self.option_type, fs=current_price, x=self.strike, t=t, r=r, q=q, cp=self.price)\n",
    "        option_price, self.delta, self.gamma, self.theta, self.vega, self.rho = merton(self.option_type, fs=current_price, x=self.strike, t=t, r=r, q=q, v=self.iv)\n",
    "        \n",
    "gbs._DEBUG=True\n",
    "i = Instrument(price=3.4340)\n",
    "o = Option(option_type='c', date = dt.date.today(), instrument=i, strike=3.5, price=0.0204)\n",
    "\n",
    "o.recalculate_greeks(r=0.02, q=0.01485148514851485)\n",
    "print(o.iv)\n",
    "print(o.delta)\n",
    "print(o.gamma)\n",
    "print(o.theta)\n",
    "print(o.vega)\n",
    "print(o.rho)"
   ]
  },
  {
   "cell_type": "code",
   "execution_count": null,
   "metadata": {},
   "outputs": [],
   "source": [
    "from a1chemy.common import *\n",
    "\n",
    "\n",
    "oo = option_map.get_option(expiry_date_list[1], 5.5, 'c')\n",
    "print('origin option Data, price:{}, {}'.format(oo.price, oo.toString()))\n",
    "print('------------------')\n",
    "\n",
    "new_underlying = Underlying(price=5.3030)\n",
    "bs_config = OptionConfig(interest_rate=0.029120, pricing_model=black_scholes)\n",
    "\n",
    "def to_cash_greeks(g):\n",
    "    return g*10000/new_underlying.price\n",
    "new_option = Option(underlying=new_underlying, \n",
    "                    config=bs_config, \n",
    "                    price=oo.price, \n",
    "                    option_type=oo.option_type, \n",
    "                    time_to_expiry=oo.time_to_expiry, \n",
    "                    strike=oo.strike, \n",
    "                    redefine_greeks=True)\n",
    "print(new_option.toString())\n",
    "print('delta:{} gamma:{} theta:{} vega:{}'.format(to_cash_greeks(new_option.delta), to_cash_greeks(new_option.gamma), to_cash_greeks(new_option.theta), to_cash_greeks(new_option.vega)))\n"
   ]
  }
 ],
 "metadata": {
  "kernelspec": {
   "display_name": "venv_a1chemy",
   "language": "python",
   "name": "venv"
  },
  "language_info": {
   "codemirror_mode": {
    "name": "ipython",
    "version": 3
   },
   "file_extension": ".py",
   "mimetype": "text/x-python",
   "name": "python",
   "nbconvert_exporter": "python",
   "pygments_lexer": "ipython3",
   "version": "3.7.5"
  }
 },
 "nbformat": 4,
 "nbformat_minor": 4
}

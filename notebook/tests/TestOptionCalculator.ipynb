{
 "cells": [
  {
   "cell_type": "code",
   "execution_count": 6,
   "metadata": {},
   "outputs": [
    {
     "name": "stdout",
     "output_type": "stream",
     "text": [
      "0.19120862318902737\n",
      "0.29026028314274566\n",
      "3.0035413161644655\n",
      "-0.6521930407998806\n",
      "0.20409928678024444\n",
      "0.029424350295020007\n"
     ]
    }
   ],
   "source": [
    "import operator\n",
    "import datetime as dt\n",
    "from a1chemy.util.option_greeks_calculator import merton, euro_implied_vol\n",
    "import a1chemy.util.option_greeks_calculator as gbs\n",
    "import numpy as np\n",
    "\n",
    "class Instrument(object):\n",
    "    def __init__(self, price) -> None:\n",
    "        self.price = price\n",
    "\n",
    "\n",
    "class Option(object):\n",
    "    def __init__(self, **kargs):\n",
    "        self.date = kargs['date']\n",
    "        self.strike = kargs['strike']\n",
    "        self.price = kargs['price']\n",
    "        self.option_type = kargs['option_type']\n",
    "        self.instrument = kargs['instrument']\n",
    "        self.iv = kargs.get('iv')\n",
    "        self.delta = kargs.get('delta')\n",
    "        self.gamma = kargs.get('gamma')\n",
    "        self.theta = kargs.get('theta')\n",
    "        self.vega = kargs.get('vega')\n",
    "        self.rho = kargs.get('rho')\n",
    "\n",
    "    def recalculate_greeks(self, r, q):\n",
    "        current_price = self.instrument.price\n",
    "#         t = float(np.busday_count( datetime.date.today(), self.date))/256\n",
    "        t = 0.030136986301369864\n",
    "        self.iv = euro_implied_vol(self.option_type, fs=current_price, x=self.strike, t=t, r=r, q=q, cp=self.price)\n",
    "        option_price, self.delta, self.gamma, self.theta, self.vega, self.rho = merton(self.option_type, fs=current_price, x=self.strike, t=t, r=r, q=q, v=self.iv)\n",
    "        \n",
    "gbs._DEBUG=True\n",
    "i = Instrument(price=3.4340)\n",
    "o = Option(option_type='c', date = dt.date.today(), instrument=i, strike=3.5, price=0.0204)\n",
    "\n",
    "o.recalculate_greeks(r=0.02, q=0.01485148514851485)\n",
    "print(o.iv)\n",
    "print(o.delta)\n",
    "print(o.gamma)\n",
    "print(o.theta)\n",
    "print(o.vega)\n",
    "print(o.rho)"
   ]
  }
 ],
 "metadata": {
  "kernelspec": {
   "display_name": "venv_a1chemy",
   "language": "python",
   "name": "venv"
  },
  "language_info": {
   "codemirror_mode": {
    "name": "ipython",
    "version": 3
   },
   "file_extension": ".py",
   "mimetype": "text/x-python",
   "name": "python",
   "nbconvert_exporter": "python",
   "pygments_lexer": "ipython3",
   "version": "3.7.5"
  }
 },
 "nbformat": 4,
 "nbformat_minor": 4
}

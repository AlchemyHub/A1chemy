{
 "cells": [
  {
   "cell_type": "code",
   "execution_count": null,
   "metadata": {},
   "outputs": [],
   "source": [
    "from a1chemy.data_source import MongoFund\n",
    "import pymongo\n",
    "\n",
    "mongo_client = pymongo.MongoClient(\"mongodb://localhost:27017/\", username='a1chemy', password='1B2C9046-E3CC-447F-9961-E125759BA44F')\n",
    "fund_client = MongoFund(mongo_client=mongo_client)"
   ]
  },
  {
   "cell_type": "code",
   "execution_count": null,
   "metadata": {},
   "outputs": [],
   "source": [
    "import json\n",
    "from a1chemy.data_source import Jisilu\n",
    "jisilu = Jisilu()\n",
    "a = jisilu.get_fund_info(exchange='SH', symbol='SH512170', name='医疗ETF')\n",
    "print(a.name)\n",
    "print(a.symbol)\n",
    "print(a.exchange)\n",
    "fund_client.upsert(exchange='SH', symbol='SH512170', fund=a)"
   ]
  },
  {
   "cell_type": "code",
   "execution_count": null,
   "metadata": {},
   "outputs": [],
   "source": [
    "f = fund_client.find_one(exchange=None, symbol='SH512170')\n",
    "print(f.name)\n",
    "print(f.symbol)\n",
    "print(f.exchange)\n",
    "for i in f.history:\n",
    "    print(\"{}: {}\".format(i.time, i.amount))"
   ]
  }
 ],
 "metadata": {
  "kernelspec": {
   "display_name": "venv_a1chemy",
   "language": "python",
   "name": "venv"
  },
  "language_info": {
   "codemirror_mode": {
    "name": "ipython",
    "version": 3
   },
   "file_extension": ".py",
   "mimetype": "text/x-python",
   "name": "python",
   "nbconvert_exporter": "python",
   "pygments_lexer": "ipython3",
   "version": "3.7.5"
  }
 },
 "nbformat": 4,
 "nbformat_minor": 4
}

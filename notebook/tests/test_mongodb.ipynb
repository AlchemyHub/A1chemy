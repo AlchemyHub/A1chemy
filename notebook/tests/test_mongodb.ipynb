{
 "cells": [
  {
   "cell_type": "code",
   "execution_count": 1,
   "metadata": {},
   "outputs": [
    {
     "name": "stdout",
     "output_type": "stream",
     "text": [
      "['a1chemy', 'admin', 'config', 'local']\n",
      "['fund', 'tags', 'ticks']\n"
     ]
    }
   ],
   "source": [
    "import pymongo\n",
    "\n",
    "\n",
    "import pytz\n",
    "tzinfo = pytz.timezone('Asia/Shanghai')\n",
    "\n",
    "myclient = pymongo.MongoClient(\"mongodb://localhost:27017/\", username='a1chemy', password='1B2C9046-E3CC-447F-9961-E125759BA44F')\n",
    "\n",
    "print(myclient.list_database_names())\n",
    "mydb = myclient[\"a1chemy\"]\n",
    "tick_data = mydb['ticks']\n",
    "print(mydb.list_collection_names())"
   ]
  },
  {
   "cell_type": "code",
   "execution_count": 3,
   "metadata": {},
   "outputs": [
    {
     "name": "stdout",
     "output_type": "stream",
     "text": [
      "<a1chemy.common.ticks.Ticks object at 0x130918790>\n"
     ]
    },
    {
     "data": {
      "text/plain": [
       "{'time': Timestamp('2021-06-11 00:00:00+0800', tz='Asia/Shanghai'),\n",
       " 'volume': 54008511,\n",
       " 'open': 214.3,\n",
       " 'high': 229.95,\n",
       " 'low': 212.08,\n",
       " 'close': 227.02}"
      ]
     },
     "execution_count": 3,
     "metadata": {},
     "output_type": "execute_result"
    }
   ],
   "source": [
    "import a1chemy.data_source as data_source\n",
    "xueqiu_client = data_source.XueQiuDataParser()\n",
    "# byd_ticks = xueqiu_client.history(symbol=\"SZ002594\", exchange='SZ' ,period = 'day', count=200, tz='Europe/London')\n",
    "byd_ticks = xueqiu_client.history(symbol=\"SZ002594\", exchange='SZ' ,period = 'day', count=200, tz='Asia/Shanghai')\n",
    "\n",
    "print(byd_ticks)\n",
    "byd_ticks.name = '比亚迪'\n",
    "byd_ticks.exchange\n",
    "byd_ticks.index()[199]\n",
    "byd_ticks.to_dict()['ticks'][199]"
   ]
  },
  {
   "cell_type": "code",
   "execution_count": null,
   "metadata": {},
   "outputs": [],
   "source": [
    "mongo_ticks = data_source.MongoTicks(myclient)\n",
    "\n",
    "mongo_ticks.upsert(exchange='SZ', symbol='SZ002594', ticks=byd_ticks)"
   ]
  },
  {
   "cell_type": "code",
   "execution_count": null,
   "metadata": {},
   "outputs": [],
   "source": [
    "mongo_ticks = data_source.MongoTicks(myclient)\n",
    "\n",
    "t = mongo_ticks.find_one(exchange='SZ', symbol='SZ002594')\n",
    "t.convert_tz(tz='Asia/Tokyo')\n",
    "# t.index()[len(t.index()) - 1]\n",
    "t.to_dict()['ticks'][len(t.index()) - 1]"
   ]
  },
  {
   "cell_type": "code",
   "execution_count": 24,
   "metadata": {},
   "outputs": [
    {
     "data": {
      "text/plain": [
       "Timestamp('2021-06-10 16:00:00+0100', tz='Europe/London')"
      ]
     },
     "execution_count": 24,
     "metadata": {},
     "output_type": "execute_result"
    }
   ],
   "source": [
    "import pandas as pd\n",
    "mongo_ticks = data_source.MongoTicks(myclient)\n",
    "\n",
    "t = mongo_ticks.ticks_collection.find_one({\n",
    "    'exchange':'SZ',\n",
    "    'symbol': 'SZ002594'\n",
    "})\n",
    "t['ticks'][len(t['ticks']) - 1]\n",
    "\n",
    "index = pd.DataFrame.from_records(t['ticks'])\n",
    "pd.to_datetime(index['time'][len(index)-1]).tz_localize(tz='Europe/London')"
   ]
  },
  {
   "cell_type": "code",
   "execution_count": null,
   "metadata": {
    "scrolled": true
   },
   "outputs": [],
   "source": [
    "import pandas as pd\n",
    "import json\n",
    "from a1chemy.common.ticks import Ticks\n",
    "import json\n",
    "result = []\n",
    "for tick in tick_data.find({'symbol': 'SZ002594'}):\n",
    "    t = Ticks.from_dict(tick)\n",
    "    result.append(t)\n",
    "    print(t.name)\n",
    "    print(t.exchange)"
   ]
  }
 ],
 "metadata": {
  "kernelspec": {
   "display_name": "venv_a1chemy",
   "language": "python",
   "name": "venv"
  },
  "language_info": {
   "codemirror_mode": {
    "name": "ipython",
    "version": 3
   },
   "file_extension": ".py",
   "mimetype": "text/x-python",
   "name": "python",
   "nbconvert_exporter": "python",
   "pygments_lexer": "ipython3",
   "version": "3.7.5"
  }
 },
 "nbformat": 4,
 "nbformat_minor": 4
}

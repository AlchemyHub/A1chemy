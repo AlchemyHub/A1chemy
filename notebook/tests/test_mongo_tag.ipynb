{
 "cells": [
  {
   "cell_type": "code",
   "execution_count": null,
   "metadata": {
    "scrolled": true
   },
   "outputs": [],
   "source": [
    "import pymongo\n",
    "import a1chemy.data_source as data_source\n",
    "from a1chemy.common import Tag\n",
    "from a1chemy.common import Tree\n",
    "mongo_client = pymongo.MongoClient(\"mongodb://localhost:27017/\", username='a1chemy', password='1B2C9046-E3CC-447F-9961-E125759BA44F')\n",
    "mongo_ticks_client = data_source.MongoTicks(mongo_client=mongo_client)\n",
    "mongo_tag_client = data_source.MongoTags(mongo_client=mongo_client)\n",
    "\n",
    "a = Tag({'id': 'a', 'values': {}})\n",
    "b = Tag({'id': 'b', 'parent': 'a', 'values':{}})\n",
    "c = Tag({'id': 'c', 'parent': 'a', 'values':{}})\n",
    "d = Tag({'id': 'c', 'parent': 'b', 'values':{}})\n",
    "\n",
    "mongo_tag_client.insert(tag=a)\n",
    "mongo_tag_client.insert(tag=b)\n",
    "mongo_tag_client.insert(tag=c)\n",
    "mongo_tag_client.insert(tag=d)"
   ]
  },
  {
   "cell_type": "code",
   "execution_count": null,
   "metadata": {},
   "outputs": [],
   "source": [
    "mongo_tag_client.find(id='汽车').parent"
   ]
  },
  {
   "cell_type": "code",
   "execution_count": null,
   "metadata": {
    "scrolled": true
   },
   "outputs": [],
   "source": [
    "t = mongo_tag_client.tree(id='tradingview_sectors')"
   ]
  },
  {
   "cell_type": "code",
   "execution_count": null,
   "metadata": {},
   "outputs": [],
   "source": [
    "t.root.children"
   ]
  },
  {
   "cell_type": "code",
   "execution_count": null,
   "metadata": {},
   "outputs": [],
   "source": [
    "class A(object):\n",
    "    a = 1\n",
    "    def __init__(self, a = 1):\n",
    "        self.a = a\n",
    "\n",
    "ss = A({'a':1})\n",
    "ss.a"
   ]
  }
 ],
 "metadata": {
  "kernelspec": {
   "display_name": "venv_a1chemy",
   "language": "python",
   "name": "venv"
  },
  "language_info": {
   "codemirror_mode": {
    "name": "ipython",
    "version": 3
   },
   "file_extension": ".py",
   "mimetype": "text/x-python",
   "name": "python",
   "nbconvert_exporter": "python",
   "pygments_lexer": "ipython3",
   "version": "3.7.5"
  }
 },
 "nbformat": 4,
 "nbformat_minor": 4
}

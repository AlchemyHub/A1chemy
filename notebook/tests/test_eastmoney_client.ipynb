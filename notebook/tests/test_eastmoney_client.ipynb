{
 "cells": [
  {
   "cell_type": "code",
   "execution_count": null,
   "metadata": {
    "scrolled": false
   },
   "outputs": [],
   "source": [
    "import requests\n",
    "import json\n",
    "import datetime\n",
    "from a1chemy.common import Option, OptionChain, Underlying, OptionConfig, OptionMap\n",
    "from a1chemy.option.pricing import black_scholes, black_76, gbs\n",
    "\n",
    "\n",
    "\n",
    "underlying = Underlying(price=5.338)\n",
    "config = OptionConfig(interest_rate=0.029120, pricing_model=gbs)\n",
    "option_map = OptionMap()\n",
    "\n",
    "time_to_expiry = datetime.date.fromisoformat('2021-06-23')\n",
    "\n",
    "headers = {\n",
    "    'Connection': 'keep-alive',\n",
    "    'User-Agent': 'Mozilla/5.0 (Macintosh; Intel Mac OS X 10_15_7) AppleWebKit/537.36 (KHTML, like Gecko) Chrome/90.0.4430.212 Safari/537.36',\n",
    "    'Accept': '*/*',\n",
    "    'Referer': 'http://quote.eastmoney.com/',\n",
    "    'Accept-Language': 'en,zh-CN;q=0.9,zh;q=0.8,zh-TW;q=0.7',\n",
    "}\n",
    "\n",
    "main_page_response = requests.get('https://www.eastmoney.com/', headers=headers)\n",
    "cookies = main_page_response.cookies\n",
    "\n",
    "\n"
   ]
  },
  {
   "cell_type": "code",
   "execution_count": null,
   "metadata": {},
   "outputs": [],
   "source": [
    "def get_option_data(underlying, config, option_map, symbol, time_to_expiry):\n",
    "    params = (\n",
    "        ('cb', 'jQuery112409759288850343608_1622469571884'),\n",
    "        ('secid', '1.' + symbol[2:]),\n",
    "        ('exti', '{}{:02d}'.format(time_to_expiry.year, time_to_expiry.month)),\n",
    "        ('spt', '9'),\n",
    "        ('fltt', '2'),\n",
    "        ('invt', '2'),\n",
    "        ('np', '1'),\n",
    "        ('ut', 'bd1d9ddb04089700cf9c27f6f7426281'),\n",
    "        ('fields', 'f1,f2,f3,f4,f5,f12,f13,f14,f108,f152,f161,f249,f250,f330,f334,f339,f340,f341,f342,f343,f344,f345,f346,f347'),\n",
    "        ('fid', 'f161'),\n",
    "        ('pn', '1'),\n",
    "        ('pz', '100'),\n",
    "        ('po', '0'),\n",
    "        ('_', '1622469571889'),\n",
    "    )\n",
    "    print('secid:{} ,exti:{}'.format(params[1][1], params[2][1]))\n",
    "    response = requests.get('http://13.push2.eastmoney.com/api/qt/slist/get', headers=headers, params=params, cookies=cookies, verify=False)\n",
    "    data = json.loads(response.text.replace(params[0][1], '')[1:-2])['data']['diff']\n",
    "    for item in data:\n",
    "        strike = item['f161']\n",
    "        option_map.add_or_update_option(underlying=underlying, config=config, option_type='c', time_to_expiry=time_to_expiry, strike=strike, price=item['f2'])\n",
    "        option_map.add_or_update_option(underlying=underlying, config=config, option_type='p', time_to_expiry=time_to_expiry, strike=strike, price=item['f341'])\n",
    "\n",
    "\n",
    "    for expire_date, chain in option_map.index.items():\n",
    "        print(expire_date)\n",
    "        for strike, straddle in chain.index.items():\n",
    "            print('{} {} {} {}'.format(expire_date, straddle.strike, straddle.call.price, straddle.put.price))"
   ]
  },
  {
   "cell_type": "code",
   "execution_count": null,
   "metadata": {},
   "outputs": [],
   "source": [
    "get_option_data(underlying, config, option_map, 'SH510300', time_to_expiry)\n",
    "o = option_map.get_option(time_to_expiry, strike=5.5, option_type='c')\n",
    "o.toString()"
   ]
  }
 ],
 "metadata": {
  "kernelspec": {
   "display_name": "venv_a1chemy",
   "language": "python",
   "name": "venv"
  },
  "language_info": {
   "codemirror_mode": {
    "name": "ipython",
    "version": 3
   },
   "file_extension": ".py",
   "mimetype": "text/x-python",
   "name": "python",
   "nbconvert_exporter": "python",
   "pygments_lexer": "ipython3",
   "version": "3.7.5"
  }
 },
 "nbformat": 4,
 "nbformat_minor": 4
}

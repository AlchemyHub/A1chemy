{
 "cells": [
  {
   "cell_type": "code",
   "execution_count": 1,
   "metadata": {
    "scrolled": true
   },
   "outputs": [
    {
     "data": {
      "text/plain": [
       "<pymongo.results.UpdateResult at 0x124c6f140>"
      ]
     },
     "execution_count": 1,
     "metadata": {},
     "output_type": "execute_result"
    }
   ],
   "source": [
    "import pymongo\n",
    "import a1chemy.data_source as data_source\n",
    "from a1chemy.common import Tag\n",
    "from a1chemy.common import Tree\n",
    "mongo_client = pymongo.MongoClient(\"mongodb://localhost:27017/\", username='a1chemy', password='1B2C9046-E3CC-447F-9961-E125759BA44F')\n",
    "mongo_ticks_client = data_source.MongoTicks(mongo_client=mongo_client)\n",
    "mongo_tag_client = data_source.MongoTags(mongo_client=mongo_client)\n",
    "\n",
    "a = Tag({'id': 'a', 'values': {}})\n",
    "b = Tag({'id': 'b', 'parent': 'a', 'values':{}})\n",
    "c = Tag({'id': 'c', 'parent': 'a', 'values':{}})\n",
    "d = Tag({'id': 'c', 'parent': 'b', 'values':{}})\n",
    "\n",
    "mongo_tag_client.insert(tag=a)\n",
    "mongo_tag_client.insert(tag=b)\n",
    "mongo_tag_client.insert(tag=c)\n",
    "mongo_tag_client.insert(tag=d)"
   ]
  },
  {
   "cell_type": "code",
   "execution_count": 2,
   "metadata": {},
   "outputs": [
    {
     "name": "stdout",
     "output_type": "stream",
     "text": [
      "['a']\n",
      "['b', 'c']\n",
      "['c']\n"
     ]
    }
   ],
   "source": [
    "tree = mongo_tag_client.tree(id='a')"
   ]
  },
  {
   "cell_type": "code",
   "execution_count": 3,
   "metadata": {},
   "outputs": [
    {
     "data": {
      "text/plain": [
       "{'a': <a1chemy.common.tag.TreeNode at 0x112459f10>,\n",
       " 'b': <a1chemy.common.tag.TreeNode at 0x11247c1d0>,\n",
       " 'c': <a1chemy.common.tag.TreeNode at 0x11247c290>}"
      ]
     },
     "execution_count": 3,
     "metadata": {},
     "output_type": "execute_result"
    }
   ],
   "source": [
    "tree.index_map"
   ]
  }
 ],
 "metadata": {
  "kernelspec": {
   "display_name": "venv_a1chemy",
   "language": "python",
   "name": "venv"
  },
  "language_info": {
   "codemirror_mode": {
    "name": "ipython",
    "version": 3
   },
   "file_extension": ".py",
   "mimetype": "text/x-python",
   "name": "python",
   "nbconvert_exporter": "python",
   "pygments_lexer": "ipython3",
   "version": "3.7.5"
  }
 },
 "nbformat": 4,
 "nbformat_minor": 4
}

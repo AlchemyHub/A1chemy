{
 "cells": [
  {
   "cell_type": "code",
   "execution_count": 1,
   "metadata": {},
   "outputs": [
    {
     "data": {
      "text/plain": [
       "<pymongo.results.UpdateResult at 0x11f8dc730>"
      ]
     },
     "execution_count": 1,
     "metadata": {},
     "output_type": "execute_result"
    }
   ],
   "source": [
    "import pymongo\n",
    "import a1chemy.data_source as data_source\n",
    "from a1chemy.common import Tag\n",
    "mongo_client = pymongo.MongoClient(\"mongodb://localhost:27017/\", username='a1chemy', password='1B2C9046-E3CC-447F-9961-E125759BA44F')\n",
    "mongo_ticks_client = data_source.MongoTicks(mongo_client=mongo_client)\n",
    "mongo_tag_client = data_source.MongoTags(mongo_client=mongo_client)\n",
    "\n",
    "tag = Tag({'id':'111', 'parent': 'test_111','values':{}})\n",
    "mongo_tag_client.insert(tag=tag)"
   ]
  },
  {
   "cell_type": "code",
   "execution_count": 8,
   "metadata": {
    "scrolled": true
   },
   "outputs": [
    {
     "name": "stdout",
     "output_type": "stream",
     "text": [
      "dict_keys(['test_111'])\n",
      "111\n"
     ]
    }
   ],
   "source": [
    "result = mongo_tag_client.find_children(id_list=['test_111'])\n",
    "print(result.keys())\n",
    "print(result['test_111'][0].id)"
   ]
  },
  {
   "cell_type": "code",
   "execution_count": 17,
   "metadata": {},
   "outputs": [
    {
     "name": "stdout",
     "output_type": "stream",
     "text": [
      "111\n",
      "test_111\n",
      "{}\n"
     ]
    }
   ],
   "source": [
    "tag1 = Tag({'id':'111', 'parent': 'test_111','values':{}, 'a':1})\n",
    "print(tag1.id)\n",
    "print(tag1.parent)\n",
    "print(tag1.values)"
   ]
  }
 ],
 "metadata": {
  "kernelspec": {
   "display_name": "venv_a1chemy",
   "language": "python",
   "name": "venv"
  },
  "language_info": {
   "codemirror_mode": {
    "name": "ipython",
    "version": 3
   },
   "file_extension": ".py",
   "mimetype": "text/x-python",
   "name": "python",
   "nbconvert_exporter": "python",
   "pygments_lexer": "ipython3",
   "version": "3.7.5"
  }
 },
 "nbformat": 4,
 "nbformat_minor": 4
}

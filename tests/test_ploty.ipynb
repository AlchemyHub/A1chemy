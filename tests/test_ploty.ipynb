{
 "cells": [
  {
   "cell_type": "code",
   "execution_count": null,
   "metadata": {},
   "outputs": [],
   "source": [
    "import a1chemy.data_source as data_source\n",
    "import a1chemy.plot.plotly_tools as plotly_tools\n",
    "import pymongo\n",
    "import pandas as pd\n",
    "\n",
    "mongo_client = pymongo.MongoClient(\"mongodb://localhost:27017/\", username='a1chemy', password='1B2C9046-E3CC-447F-9961-E125759BA44F')\n",
    "mongo_ticks_client = data_source.MongoTicks(mongo_client)\n",
    "ticks = mongo_ticks_client.find_one(exchange='SH', symbol='SH688036')\n",
    "ticks.raw_data['close'].max()\n",
    "\n",
    "\n",
    "plotly_tools.ticks_thumbnail(ticks, start=-20)"
   ]
  },
  {
   "cell_type": "code",
   "execution_count": null,
   "metadata": {},
   "outputs": [],
   "source": [
    "from a1chemy.util import *\n",
    "import plotly.graph_objects as go\n",
    "from IPython.display import Image\n",
    "import plotly.io as pio\n",
    "import base64\n",
    "\n",
    "def thumbnail(ticks=None, start=None, end=None, width=120, height=30):\n",
    "    df = ticks.raw_data.iloc[start:end]\n",
    "    min = df['close'].min()\n",
    "    max = df['close'].max()\n",
    "    def _color_getter(x):\n",
    "        if x == min:\n",
    "            print(\"min\")\n",
    "            return \"red\"\n",
    "        elif x == max:\n",
    "            return \"green\"\n",
    "        else:\n",
    "            return \"yellow\"\n",
    "    \n",
    "    def _size_getter(x):\n",
    "        if x == min or x == max:\n",
    "            return 12\n",
    "        else:\n",
    "            return 12\n",
    "    \n",
    "    layout = go.Layout(autosize=True, margin={'l': 0, 'r': 0, 't': 0, 'b': 0}, xaxis = dict(type=\"category\"))\n",
    "    fig = go.Figure(layout=layout, data=[\n",
    "                    go.Scatter(x=df['time'],\n",
    "                               y=df['close'],\n",
    "                               mode='markers+lines',\n",
    "                               marker = dict(size=list(map(_size_getter, df['close'])), color=list(map(_color_getter, df['close']))),\n",
    "                               )\n",
    "                    ]\n",
    "                    )\n",
    "    fig.update_layout(xaxis_visible=False, yaxis_visible=False)\n",
    "    return Image(pio.to_image(fig, format='png', engine=\"kaleido\", width=width, height=height))\n",
    "\n",
    "print(ticks.raw_data['time'].min())\n",
    "print(ticks.raw_data['time'].min().tz)\n",
    "print(type(ticks.raw_data['time'].min()))\n",
    "thumbnail(ticks, start=-20, width=480, height=120)"
   ]
  },
  {
   "cell_type": "code",
   "execution_count": null,
   "metadata": {},
   "outputs": [],
   "source": [
    "def a(time_series, frequency):\n",
    "    tz = time_series.iloc[0].tz\n",
    "    print(tz)\n",
    "    dt_all = pd.date_range(start=time_series.iloc[0], end=time_series.iloc[-1], tz=tz, freq = frequency)\n",
    "    dt_all_py = [d for d in dt_all]\n",
    "    dt_obs_py = [d for d in time_series]\n",
    "    return [d for d in dt_all_py if d not in dt_obs_py]\n",
    "a(ticks.raw_data.iloc[-20:None]['time'], 'D')"
   ]
  }
 ],
 "metadata": {
  "kernelspec": {
   "display_name": "venv_a1chemy",
   "language": "python",
   "name": "venv"
  },
  "language_info": {
   "codemirror_mode": {
    "name": "ipython",
    "version": 3
   },
   "file_extension": ".py",
   "mimetype": "text/x-python",
   "name": "python",
   "nbconvert_exporter": "python",
   "pygments_lexer": "ipython3",
   "version": "3.7.5"
  }
 },
 "nbformat": 4,
 "nbformat_minor": 4
}

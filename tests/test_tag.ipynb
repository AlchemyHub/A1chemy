{
 "cells": [
  {
   "cell_type": "code",
   "execution_count": null,
   "metadata": {
    "scrolled": false
   },
   "outputs": [],
   "source": [
    "import json\n",
    "import pandas as pd\n",
    "import numpy as np\n",
    "import a1chemy as a1\n",
    "import a1chemy.indicators as indicators\n",
    "import a1chemy.data_source as data_source\n",
    "from tqdm.notebook import tqdm\n",
    "import random\n",
    "import time\n",
    "import pymongo\n",
    "from IPython.core.display import display, HTML\n",
    "from a1chemy.common.tag import Tree\n",
    "from a1chemy.common import Tag\n",
    "import itertools\n",
    "\n",
    "mongo_client = pymongo.MongoClient(\"mongodb://localhost:27017/\", username='a1chemy', password='1B2C9046-E3CC-447F-9961-E125759BA44F')\n",
    "mongo_ticks_client = data_source.MongoTicks(mongo_client)\n",
    "mongo_tags_client = data_source.MongoTags(mongo_client=mongo_client)\n",
    "\n",
    "\n",
    "\n",
    "root = mongo_tags_client.find(id='swsindex')\n",
    "tree = Tree(root=root)\n",
    "parent_id_list = [root.id]\n",
    "while parent_id_list:\n",
    "    print(parent_id_list)\n",
    "    children_dict = mongo_tags_client.find_children(parent_list=parent_id_list)\n",
    "    print('children_dict len={}'.format(len(children_dict)))\n",
    "    next_parent_id_list = []\n",
    "    for parent, children in children_dict.items():\n",
    "        print('parent:{} len:{}'.format(parent, len(children)))\n",
    "        tree.add_relation(parent=parent, children=children)\n",
    "        current_children_id_list = [child.id for child in children]\n",
    "        next_parent_id_list.extend(current_children_id_list)\n",
    "    parent_id_list = next_parent_id_list"
   ]
  },
  {
   "cell_type": "code",
   "execution_count": null,
   "metadata": {},
   "outputs": [],
   "source": [
    "children_dict = mongo_tags_client.find_children(parent_list=['钢铁', '电子'])\n",
    "for k, v in children_dict.items():\n",
    "    print(k)\n",
    "    print(len(v))\n",
    "    for i in v:\n",
    "        print(i.id)"
   ]
  },
  {
   "cell_type": "code",
   "execution_count": null,
   "metadata": {},
   "outputs": [],
   "source": [
    "query = {\n",
    "    'parent': {\n",
    "        '$in': ['钢铁', '电子']\n",
    "    }\n",
    "}\n",
    "data = mongo_tags_client.tags_collection.find(query)\n",
    "# for i in data:\n",
    "#     print(i['id'])\n",
    "# s = set()\n",
    "# for k, v in itertools.groupby(data, key=lambda x: x['parent']):\n",
    "#     print(k)\n",
    "#     s.add(k)\n",
    "# print(s)\n",
    "dict((k, list(map(lambda x: Tag(id=x['id'], parent=x.get('parent', None), values = x.get('values', None)), values))) for k, values in itertools.groupby(sorted(data, key=lambda x: x['parent']), key=lambda x: x['parent']))"
   ]
  }
 ],
 "metadata": {
  "kernelspec": {
   "display_name": "venv_a1chemy",
   "language": "python",
   "name": "venv"
  },
  "language_info": {
   "codemirror_mode": {
    "name": "ipython",
    "version": 3
   },
   "file_extension": ".py",
   "mimetype": "text/x-python",
   "name": "python",
   "nbconvert_exporter": "python",
   "pygments_lexer": "ipython3",
   "version": "3.7.5"
  }
 },
 "nbformat": 4,
 "nbformat_minor": 4
}
